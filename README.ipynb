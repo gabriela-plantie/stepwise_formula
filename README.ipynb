{
 "cells": [
  {
   "cell_type": "markdown",
   "metadata": {},
   "source": [
    "## What it does:"
   ]
  },
  {
   "cell_type": "markdown",
   "metadata": {},
   "source": [
    "This packages receives a data frame and function that could have multiplicative terms and runs setpwise selection from this package.\n",
    "\n",
    "https://github.com/talhahascelik/python_stepwiseSelection"
   ]
  },
  {
   "cell_type": "markdown",
   "metadata": {},
   "source": [
    "## Install package"
   ]
  },
  {
   "cell_type": "code",
   "execution_count": null,
   "metadata": {},
   "outputs": [],
   "source": [
    "%%capture\n",
    "!pip3 install git+git://github.com/gabriela-plantie/stepwise_formula"
   ]
  },
  {
   "cell_type": "code",
   "execution_count": 24,
   "metadata": {
    "scrolled": false
   },
   "outputs": [],
   "source": [
    "from stepwise_formula.stepwise import stepwise"
   ]
  },
  {
   "cell_type": "raw",
   "metadata": {},
   "source": [
    "# de las carpetas\n",
    "from stepwise_formula.stepwiseSelector import backwardSelection\n",
    "from stepwise_formula.formula import Formula\n",
    "from stepwise_formula.stepwise import stepwise"
   ]
  },
  {
   "cell_type": "code",
   "execution_count": 4,
   "metadata": {},
   "outputs": [],
   "source": [
    "import pandas as pd\n",
    "import numpy as np\n",
    "import scipy as sc\n",
    "from matplotlib import pyplot as plt\n",
    "import statsmodels.formula.api as smf\n",
    "import statsmodels.api as sm\n",
    "import random"
   ]
  },
  {
   "cell_type": "markdown",
   "metadata": {},
   "source": [
    "## create table with simulated data"
   ]
  },
  {
   "cell_type": "code",
   "execution_count": 5,
   "metadata": {},
   "outputs": [],
   "source": [
    "\n",
    "def create_df(seed):\n",
    "    np.random.seed(seed)\n",
    "    x1=np.random.normal(0,1,1000)\n",
    "    x2=np.random.normal(0,1,1000)\n",
    "    x3=np.random.normal(0,1,1000)\n",
    "    x4=np.random.normal(0,1,1000)/5\n",
    "\n",
    "    z=1 + 2*x1 + x2 + 2*x2*x3 +x4\n",
    "    pr=1/(1+np.exp(-z))\n",
    "    y=sc.stats.binom.rvs(1, pr, size=1000)\n",
    "    y1= z+x4\n",
    "    df = pd.DataFrame(data={'y':y, 'y1': y1,'x1':x1, 'x2':x2, 'x3':x3, 'x4':x4})\n",
    "    return [df,z]"
   ]
  },
  {
   "cell_type": "code",
   "execution_count": 6,
   "metadata": {},
   "outputs": [],
   "source": [
    "df= create_df(30)[0]\n",
    "z= create_df(30)[1]"
   ]
  },
  {
   "cell_type": "markdown",
   "metadata": {},
   "source": [
    "## Define formula"
   ]
  },
  {
   "cell_type": "code",
   "execution_count": 7,
   "metadata": {},
   "outputs": [],
   "source": [
    "formula = 'y ~  x2*x3 + x1:x4 '"
   ]
  },
  {
   "cell_type": "markdown",
   "metadata": {},
   "source": [
    "## Run stepwise using formula"
   ]
  },
  {
   "cell_type": "code",
   "execution_count": 8,
   "metadata": {},
   "outputs": [
    {
     "name": "stdout",
     "output_type": "stream",
     "text": [
      "{x1*x4, 'x2', x2*x3, 'x3'}\n",
      "Character Variables (Dummies Generated, First Dummies Dropped): []\n",
      "Optimization terminated successfully.\n",
      "         Current function value: 0.541247\n",
      "         Iterations 6\n",
      "Eliminated : x3\n",
      "Optimization terminated successfully.\n",
      "         Current function value: 0.541255\n",
      "         Iterations 6\n",
      "                           Logit Regression Results                           \n",
      "==============================================================================\n",
      "Dep. Variable:                      y   No. Observations:                 1000\n",
      "Model:                          Logit   Df Residuals:                      996\n",
      "Method:                           MLE   Df Model:                            3\n",
      "Date:                Fri, 23 Oct 2020   Pseudo R-squ.:                  0.1806\n",
      "Time:                        13:36:53   Log-Likelihood:                -541.26\n",
      "converged:                       True   LL-Null:                       -660.53\n",
      "Covariance Type:            nonrobust   LLR p-value:                 1.954e-51\n",
      "==============================================================================\n",
      "                 coef    std err          z      P>|z|      [0.025      0.975]\n",
      "------------------------------------------------------------------------------\n",
      "intercept      0.6208      0.075      8.286      0.000       0.474       0.768\n",
      "x1*x4          1.3253      0.371      3.574      0.000       0.599       2.052\n",
      "x2             0.6711      0.093      7.240      0.000       0.489       0.853\n",
      "x2*x3          1.3555      0.122     11.097      0.000       1.116       1.595\n",
      "==============================================================================\n",
      "AIC: 1090.51050046908\n",
      "BIC: 1110.1415215850084\n",
      "Final Variables: ['intercept', 'x1*x4', 'x2', 'x2*x3']\n"
     ]
    }
   ],
   "source": [
    "mod = stepwise(formula, df, 'logistic')"
   ]
  },
  {
   "cell_type": "code",
   "execution_count": 9,
   "metadata": {},
   "outputs": [
    {
     "data": {
      "text/plain": [
       "'logistic'"
      ]
     },
     "execution_count": 9,
     "metadata": {},
     "output_type": "execute_result"
    }
   ],
   "source": [
    "mod.model_type"
   ]
  },
  {
   "cell_type": "code",
   "execution_count": 10,
   "metadata": {},
   "outputs": [
    {
     "data": {
      "text/plain": [
       "<statsmodels.discrete.discrete_model.BinaryResultsWrapper at 0x7f376c79cac0>"
      ]
     },
     "execution_count": 10,
     "metadata": {},
     "output_type": "execute_result"
    }
   ],
   "source": [
    "mod.model"
   ]
  },
  {
   "cell_type": "markdown",
   "metadata": {},
   "source": [
    "## Predicction on another dataset"
   ]
  },
  {
   "cell_type": "code",
   "execution_count": 11,
   "metadata": {},
   "outputs": [],
   "source": [
    "testResults= mod.predict(df, alpha=0.05)"
   ]
  },
  {
   "cell_type": "code",
   "execution_count": 12,
   "metadata": {},
   "outputs": [
    {
     "data": {
      "text/plain": [
       "<stepwise_formula.stepwise.TestResults at 0x7f3726470190>"
      ]
     },
     "execution_count": 12,
     "metadata": {},
     "output_type": "execute_result"
    }
   ],
   "source": [
    "testResults"
   ]
  },
  {
   "cell_type": "code",
   "execution_count": 13,
   "metadata": {},
   "outputs": [],
   "source": [
    "t=testResults.testDataframe"
   ]
  },
  {
   "cell_type": "code",
   "execution_count": 14,
   "metadata": {},
   "outputs": [],
   "source": [
    "t['pred'] = testResults.prediction"
   ]
  },
  {
   "cell_type": "code",
   "execution_count": 15,
   "metadata": {},
   "outputs": [
    {
     "data": {
      "text/html": [
       "<div>\n",
       "<style scoped>\n",
       "    .dataframe tbody tr th:only-of-type {\n",
       "        vertical-align: middle;\n",
       "    }\n",
       "\n",
       "    .dataframe tbody tr th {\n",
       "        vertical-align: top;\n",
       "    }\n",
       "\n",
       "    .dataframe thead th {\n",
       "        text-align: right;\n",
       "    }\n",
       "</style>\n",
       "<table border=\"1\" class=\"dataframe\">\n",
       "  <thead>\n",
       "    <tr style=\"text-align: right;\">\n",
       "      <th></th>\n",
       "      <th>intercept</th>\n",
       "      <th>x1*x4</th>\n",
       "      <th>x2</th>\n",
       "      <th>x2*x3</th>\n",
       "      <th>pred</th>\n",
       "    </tr>\n",
       "  </thead>\n",
       "  <tbody>\n",
       "    <tr>\n",
       "      <th>0</th>\n",
       "      <td>1</td>\n",
       "      <td>-0.142610</td>\n",
       "      <td>0.452175</td>\n",
       "      <td>0.139584</td>\n",
       "      <td>0.715952</td>\n",
       "    </tr>\n",
       "    <tr>\n",
       "      <th>1</th>\n",
       "      <td>1</td>\n",
       "      <td>-0.016467</td>\n",
       "      <td>1.134899</td>\n",
       "      <td>-0.830760</td>\n",
       "      <td>0.558363</td>\n",
       "    </tr>\n",
       "    <tr>\n",
       "      <th>2</th>\n",
       "      <td>1</td>\n",
       "      <td>-0.178077</td>\n",
       "      <td>0.077442</td>\n",
       "      <td>-0.046015</td>\n",
       "      <td>0.592518</td>\n",
       "    </tr>\n",
       "    <tr>\n",
       "      <th>3</th>\n",
       "      <td>1</td>\n",
       "      <td>0.098642</td>\n",
       "      <td>0.226821</td>\n",
       "      <td>-0.494669</td>\n",
       "      <td>0.558039</td>\n",
       "    </tr>\n",
       "    <tr>\n",
       "      <th>4</th>\n",
       "      <td>1</td>\n",
       "      <td>-0.051086</td>\n",
       "      <td>0.526648</td>\n",
       "      <td>0.189129</td>\n",
       "      <td>0.761861</td>\n",
       "    </tr>\n",
       "    <tr>\n",
       "      <th>...</th>\n",
       "      <td>...</td>\n",
       "      <td>...</td>\n",
       "      <td>...</td>\n",
       "      <td>...</td>\n",
       "      <td>...</td>\n",
       "    </tr>\n",
       "    <tr>\n",
       "      <th>995</th>\n",
       "      <td>1</td>\n",
       "      <td>-0.107829</td>\n",
       "      <td>0.897219</td>\n",
       "      <td>-0.164495</td>\n",
       "      <td>0.702047</td>\n",
       "    </tr>\n",
       "    <tr>\n",
       "      <th>996</th>\n",
       "      <td>1</td>\n",
       "      <td>-0.017205</td>\n",
       "      <td>-0.577262</td>\n",
       "      <td>-0.256417</td>\n",
       "      <td>0.465798</td>\n",
       "    </tr>\n",
       "    <tr>\n",
       "      <th>997</th>\n",
       "      <td>1</td>\n",
       "      <td>-0.002307</td>\n",
       "      <td>0.904900</td>\n",
       "      <td>0.125015</td>\n",
       "      <td>0.801311</td>\n",
       "    </tr>\n",
       "    <tr>\n",
       "      <th>998</th>\n",
       "      <td>1</td>\n",
       "      <td>-0.008264</td>\n",
       "      <td>1.120783</td>\n",
       "      <td>0.405615</td>\n",
       "      <td>0.871228</td>\n",
       "    </tr>\n",
       "    <tr>\n",
       "      <th>999</th>\n",
       "      <td>1</td>\n",
       "      <td>0.077656</td>\n",
       "      <td>-0.420349</td>\n",
       "      <td>-0.276153</td>\n",
       "      <td>0.516808</td>\n",
       "    </tr>\n",
       "  </tbody>\n",
       "</table>\n",
       "<p>1000 rows × 5 columns</p>\n",
       "</div>"
      ],
      "text/plain": [
       "     intercept     x1*x4        x2     x2*x3      pred\n",
       "0            1 -0.142610  0.452175  0.139584  0.715952\n",
       "1            1 -0.016467  1.134899 -0.830760  0.558363\n",
       "2            1 -0.178077  0.077442 -0.046015  0.592518\n",
       "3            1  0.098642  0.226821 -0.494669  0.558039\n",
       "4            1 -0.051086  0.526648  0.189129  0.761861\n",
       "..         ...       ...       ...       ...       ...\n",
       "995          1 -0.107829  0.897219 -0.164495  0.702047\n",
       "996          1 -0.017205 -0.577262 -0.256417  0.465798\n",
       "997          1 -0.002307  0.904900  0.125015  0.801311\n",
       "998          1 -0.008264  1.120783  0.405615  0.871228\n",
       "999          1  0.077656 -0.420349 -0.276153  0.516808\n",
       "\n",
       "[1000 rows x 5 columns]"
      ]
     },
     "execution_count": 15,
     "metadata": {},
     "output_type": "execute_result"
    }
   ],
   "source": [
    "t"
   ]
  },
  {
   "cell_type": "markdown",
   "metadata": {},
   "source": [
    "## Plot model logit vs original logit"
   ]
  },
  {
   "cell_type": "code",
   "execution_count": 16,
   "metadata": {},
   "outputs": [
    {
     "data": {
      "text/plain": [
       "<matplotlib.collections.PathCollection at 0x7f372395cd30>"
      ]
     },
     "execution_count": 16,
     "metadata": {},
     "output_type": "execute_result"
    },
    {
     "data": {
      "image/png": "[encoded data removed]",
      "text/plain": [
       "<Figure size 432x288 with 1 Axes>"
      ]
     },
     "metadata": {
      "needs_background": "light"
     },
     "output_type": "display_data"
    }
   ],
   "source": [
    "plt.scatter(list(map(lambda p: np.log(p/(1-p)), t['pred'])) , z)"
   ]
  },
  {
   "cell_type": "markdown",
   "metadata": {},
   "source": [
    "## Linear"
   ]
  },
  {
   "cell_type": "code",
   "execution_count": 17,
   "metadata": {},
   "outputs": [],
   "source": [
    "formula = 'y1 ~  x2*x3+x4 '"
   ]
  },
  {
   "cell_type": "code",
   "execution_count": 18,
   "metadata": {},
   "outputs": [
    {
     "name": "stdout",
     "output_type": "stream",
     "text": [
      "{'x4', 'x2', x2*x3, 'x3'}\n",
      "Character Variables (Dummies Generated, First Dummies Dropped): []\n",
      "Eliminated : x3\n",
      "Regained :  x3\n",
      "                            OLS Regression Results                            \n",
      "==============================================================================\n",
      "Dep. Variable:                     y1   R-squared:                       0.555\n",
      "Model:                            OLS   Adj. R-squared:                  0.553\n",
      "Method:                 Least Squares   F-statistic:                     310.3\n",
      "Date:                Fri, 23 Oct 2020   Prob (F-statistic):          3.02e-173\n",
      "Time:                        13:37:01   Log-Likelihood:                -2091.6\n",
      "No. Observations:                1000   AIC:                             4193.\n",
      "Df Residuals:                     995   BIC:                             4218.\n",
      "Df Model:                           4                                         \n",
      "Covariance Type:            nonrobust                                         \n",
      "==============================================================================\n",
      "                 coef    std err          t      P>|t|      [0.025      0.975]\n",
      "------------------------------------------------------------------------------\n",
      "intercept      1.0326      0.062     16.589      0.000       0.910       1.155\n",
      "x4             2.4669      0.304      8.115      0.000       1.870       3.063\n",
      "x2             1.0031      0.064     15.637      0.000       0.877       1.129\n",
      "x2*x3          2.0311      0.063     32.149      0.000       1.907       2.155\n",
      "x3            -0.0916      0.061     -1.489      0.137      -0.212       0.029\n",
      "==============================================================================\n",
      "Omnibus:                        0.767   Durbin-Watson:                   2.033\n",
      "Prob(Omnibus):                  0.682   Jarque-Bera (JB):                0.758\n",
      "Skew:                           0.067   Prob(JB):                        0.684\n",
      "Kurtosis:                       2.991   Cond. No.                         5.06\n",
      "==============================================================================\n",
      "\n",
      "Notes:\n",
      "[1] Standard Errors assume that the covariance matrix of the errors is correctly specified.\n",
      "AIC: 4193.255995938327\n",
      "BIC: 4217.794772333238\n",
      "Final Variables: ['intercept', 'x4', 'x2', 'x2*x3', 'x3']\n"
     ]
    }
   ],
   "source": [
    "mod = stepwise(formula, df, 'linear')"
   ]
  },
  {
   "cell_type": "code",
   "execution_count": 19,
   "metadata": {},
   "outputs": [],
   "source": [
    "testResults= mod.predict(df, alpha=0.05)"
   ]
  },
  {
   "cell_type": "code",
   "execution_count": 20,
   "metadata": {},
   "outputs": [
    {
     "data": {
      "text/html": [
       "<div>\n",
       "<style scoped>\n",
       "    .dataframe tbody tr th:only-of-type {\n",
       "        vertical-align: middle;\n",
       "    }\n",
       "\n",
       "    .dataframe tbody tr th {\n",
       "        vertical-align: top;\n",
       "    }\n",
       "\n",
       "    .dataframe thead th {\n",
       "        text-align: right;\n",
       "    }\n",
       "</style>\n",
       "<table border=\"1\" class=\"dataframe\">\n",
       "  <thead>\n",
       "    <tr style=\"text-align: right;\">\n",
       "      <th></th>\n",
       "      <th>intercept</th>\n",
       "      <th>x4</th>\n",
       "      <th>x2</th>\n",
       "      <th>x2*x3</th>\n",
       "      <th>x3</th>\n",
       "    </tr>\n",
       "  </thead>\n",
       "  <tbody>\n",
       "    <tr>\n",
       "      <th>0</th>\n",
       "      <td>1</td>\n",
       "      <td>0.112820</td>\n",
       "      <td>0.452175</td>\n",
       "      <td>0.139584</td>\n",
       "      <td>0.308695</td>\n",
       "    </tr>\n",
       "    <tr>\n",
       "      <th>1</th>\n",
       "      <td>1</td>\n",
       "      <td>-0.010777</td>\n",
       "      <td>1.134899</td>\n",
       "      <td>-0.830760</td>\n",
       "      <td>-0.732013</td>\n",
       "    </tr>\n",
       "    <tr>\n",
       "      <th>2</th>\n",
       "      <td>1</td>\n",
       "      <td>0.183450</td>\n",
       "      <td>0.077442</td>\n",
       "      <td>-0.046015</td>\n",
       "      <td>-0.594185</td>\n",
       "    </tr>\n",
       "    <tr>\n",
       "      <th>3</th>\n",
       "      <td>1</td>\n",
       "      <td>0.209627</td>\n",
       "      <td>0.226821</td>\n",
       "      <td>-0.494669</td>\n",
       "      <td>-2.180876</td>\n",
       "    </tr>\n",
       "    <tr>\n",
       "      <th>4</th>\n",
       "      <td>1</td>\n",
       "      <td>0.507330</td>\n",
       "      <td>0.526648</td>\n",
       "      <td>0.189129</td>\n",
       "      <td>0.359118</td>\n",
       "    </tr>\n",
       "    <tr>\n",
       "      <th>...</th>\n",
       "      <td>...</td>\n",
       "      <td>...</td>\n",
       "      <td>...</td>\n",
       "      <td>...</td>\n",
       "      <td>...</td>\n",
       "    </tr>\n",
       "    <tr>\n",
       "      <th>995</th>\n",
       "      <td>1</td>\n",
       "      <td>-0.128762</td>\n",
       "      <td>0.897219</td>\n",
       "      <td>-0.164495</td>\n",
       "      <td>-0.183339</td>\n",
       "    </tr>\n",
       "    <tr>\n",
       "      <th>996</th>\n",
       "      <td>1</td>\n",
       "      <td>-0.064541</td>\n",
       "      <td>-0.577262</td>\n",
       "      <td>-0.256417</td>\n",
       "      <td>0.444195</td>\n",
       "    </tr>\n",
       "    <tr>\n",
       "      <th>997</th>\n",
       "      <td>1</td>\n",
       "      <td>-0.005238</td>\n",
       "      <td>0.904900</td>\n",
       "      <td>0.125015</td>\n",
       "      <td>0.138153</td>\n",
       "    </tr>\n",
       "    <tr>\n",
       "      <th>998</th>\n",
       "      <td>1</td>\n",
       "      <td>-0.056286</td>\n",
       "      <td>1.120783</td>\n",
       "      <td>0.405615</td>\n",
       "      <td>0.361903</td>\n",
       "    </tr>\n",
       "    <tr>\n",
       "      <th>999</th>\n",
       "      <td>1</td>\n",
       "      <td>-0.225817</td>\n",
       "      <td>-0.420349</td>\n",
       "      <td>-0.276153</td>\n",
       "      <td>0.656963</td>\n",
       "    </tr>\n",
       "  </tbody>\n",
       "</table>\n",
       "<p>1000 rows × 5 columns</p>\n",
       "</div>"
      ],
      "text/plain": [
       "     intercept        x4        x2     x2*x3        x3\n",
       "0            1  0.112820  0.452175  0.139584  0.308695\n",
       "1            1 -0.010777  1.134899 -0.830760 -0.732013\n",
       "2            1  0.183450  0.077442 -0.046015 -0.594185\n",
       "3            1  0.209627  0.226821 -0.494669 -2.180876\n",
       "4            1  0.507330  0.526648  0.189129  0.359118\n",
       "..         ...       ...       ...       ...       ...\n",
       "995          1 -0.128762  0.897219 -0.164495 -0.183339\n",
       "996          1 -0.064541 -0.577262 -0.256417  0.444195\n",
       "997          1 -0.005238  0.904900  0.125015  0.138153\n",
       "998          1 -0.056286  1.120783  0.405615  0.361903\n",
       "999          1 -0.225817 -0.420349 -0.276153  0.656963\n",
       "\n",
       "[1000 rows x 5 columns]"
      ]
     },
     "execution_count": 20,
     "metadata": {},
     "output_type": "execute_result"
    }
   ],
   "source": [
    "testResults.testDataframe"
   ]
  },
  {
   "cell_type": "code",
   "execution_count": 22,
   "metadata": {},
   "outputs": [
    {
     "data": {
      "text/plain": [
       "0      2.019718\n",
       "1      0.524111\n",
       "2      1.523769\n",
       "3      0.972228\n",
       "4      3.163633\n",
       "         ...   \n",
       "995    1.297642\n",
       "996   -0.267152\n",
       "997    2.168642\n",
       "998    2.808699\n",
       "999   -0.567166\n",
       "Name: mean, Length: 1000, dtype: float64"
      ]
     },
     "execution_count": 22,
     "metadata": {},
     "output_type": "execute_result"
    }
   ],
   "source": [
    "testResults.prediction"
   ]
  },
  {
   "cell_type": "code",
   "execution_count": 23,
   "metadata": {},
   "outputs": [
    {
     "data": {
      "text/html": [
       "<div>\n",
       "<style scoped>\n",
       "    .dataframe tbody tr th:only-of-type {\n",
       "        vertical-align: middle;\n",
       "    }\n",
       "\n",
       "    .dataframe tbody tr th {\n",
       "        vertical-align: top;\n",
       "    }\n",
       "\n",
       "    .dataframe thead th {\n",
       "        text-align: right;\n",
       "    }\n",
       "</style>\n",
       "<table border=\"1\" class=\"dataframe\">\n",
       "  <thead>\n",
       "    <tr style=\"text-align: right;\">\n",
       "      <th></th>\n",
       "      <th>mean</th>\n",
       "      <th>mean_se</th>\n",
       "      <th>mean_ci_lower</th>\n",
       "      <th>mean_ci_upper</th>\n",
       "      <th>obs_ci_lower</th>\n",
       "      <th>obs_ci_upper</th>\n",
       "    </tr>\n",
       "  </thead>\n",
       "  <tbody>\n",
       "    <tr>\n",
       "      <th>0</th>\n",
       "      <td>2.019718</td>\n",
       "      <td>0.078220</td>\n",
       "      <td>1.866224</td>\n",
       "      <td>2.173213</td>\n",
       "      <td>-1.838213</td>\n",
       "      <td>5.877650</td>\n",
       "    </tr>\n",
       "    <tr>\n",
       "      <th>1</th>\n",
       "      <td>0.524111</td>\n",
       "      <td>0.114424</td>\n",
       "      <td>0.299570</td>\n",
       "      <td>0.748652</td>\n",
       "      <td>-3.337300</td>\n",
       "      <td>4.385522</td>\n",
       "    </tr>\n",
       "    <tr>\n",
       "      <th>2</th>\n",
       "      <td>1.523769</td>\n",
       "      <td>0.089071</td>\n",
       "      <td>1.348980</td>\n",
       "      <td>1.698557</td>\n",
       "      <td>-2.335069</td>\n",
       "      <td>5.382606</td>\n",
       "    </tr>\n",
       "    <tr>\n",
       "      <th>3</th>\n",
       "      <td>0.972228</td>\n",
       "      <td>0.161526</td>\n",
       "      <td>0.655258</td>\n",
       "      <td>1.289198</td>\n",
       "      <td>-2.895658</td>\n",
       "      <td>4.840114</td>\n",
       "    </tr>\n",
       "    <tr>\n",
       "      <th>4</th>\n",
       "      <td>3.163633</td>\n",
       "      <td>0.169810</td>\n",
       "      <td>2.830406</td>\n",
       "      <td>3.496860</td>\n",
       "      <td>-0.705619</td>\n",
       "      <td>7.032886</td>\n",
       "    </tr>\n",
       "    <tr>\n",
       "      <th>...</th>\n",
       "      <td>...</td>\n",
       "      <td>...</td>\n",
       "      <td>...</td>\n",
       "      <td>...</td>\n",
       "      <td>...</td>\n",
       "      <td>...</td>\n",
       "    </tr>\n",
       "    <tr>\n",
       "      <th>995</th>\n",
       "      <td>1.297642</td>\n",
       "      <td>0.094512</td>\n",
       "      <td>1.112177</td>\n",
       "      <td>1.483108</td>\n",
       "      <td>-2.561693</td>\n",
       "      <td>5.156978</td>\n",
       "    </tr>\n",
       "    <tr>\n",
       "      <th>996</th>\n",
       "      <td>-0.267152</td>\n",
       "      <td>0.083674</td>\n",
       "      <td>-0.431349</td>\n",
       "      <td>-0.102954</td>\n",
       "      <td>-4.125524</td>\n",
       "      <td>3.591220</td>\n",
       "    </tr>\n",
       "    <tr>\n",
       "      <th>997</th>\n",
       "      <td>2.168642</td>\n",
       "      <td>0.085525</td>\n",
       "      <td>2.000813</td>\n",
       "      <td>2.336472</td>\n",
       "      <td>-1.689886</td>\n",
       "      <td>6.027170</td>\n",
       "    </tr>\n",
       "    <tr>\n",
       "      <th>998</th>\n",
       "      <td>2.808699</td>\n",
       "      <td>0.102713</td>\n",
       "      <td>2.607141</td>\n",
       "      <td>3.010258</td>\n",
       "      <td>-1.051443</td>\n",
       "      <td>6.668842</td>\n",
       "    </tr>\n",
       "    <tr>\n",
       "      <th>999</th>\n",
       "      <td>-0.567166</td>\n",
       "      <td>0.109571</td>\n",
       "      <td>-0.782183</td>\n",
       "      <td>-0.352149</td>\n",
       "      <td>-4.428035</td>\n",
       "      <td>3.293702</td>\n",
       "    </tr>\n",
       "  </tbody>\n",
       "</table>\n",
       "<p>1000 rows × 6 columns</p>\n",
       "</div>"
      ],
      "text/plain": [
       "         mean   mean_se  mean_ci_lower  mean_ci_upper  obs_ci_lower  \\\n",
       "0    2.019718  0.078220       1.866224       2.173213     -1.838213   \n",
       "1    0.524111  0.114424       0.299570       0.748652     -3.337300   \n",
       "2    1.523769  0.089071       1.348980       1.698557     -2.335069   \n",
       "3    0.972228  0.161526       0.655258       1.289198     -2.895658   \n",
       "4    3.163633  0.169810       2.830406       3.496860     -0.705619   \n",
       "..        ...       ...            ...            ...           ...   \n",
       "995  1.297642  0.094512       1.112177       1.483108     -2.561693   \n",
       "996 -0.267152  0.083674      -0.431349      -0.102954     -4.125524   \n",
       "997  2.168642  0.085525       2.000813       2.336472     -1.689886   \n",
       "998  2.808699  0.102713       2.607141       3.010258     -1.051443   \n",
       "999 -0.567166  0.109571      -0.782183      -0.352149     -4.428035   \n",
       "\n",
       "     obs_ci_upper  \n",
       "0        5.877650  \n",
       "1        4.385522  \n",
       "2        5.382606  \n",
       "3        4.840114  \n",
       "4        7.032886  \n",
       "..            ...  \n",
       "995      5.156978  \n",
       "996      3.591220  \n",
       "997      6.027170  \n",
       "998      6.668842  \n",
       "999      3.293702  \n",
       "\n",
       "[1000 rows x 6 columns]"
      ]
     },
     "execution_count": 23,
     "metadata": {},
     "output_type": "execute_result"
    }
   ],
   "source": [
    "testResults.intervals"
   ]
  },
  {
   "cell_type": "code",
   "execution_count": null,
   "metadata": {
    "scrolled": true
   },
   "outputs": [],
   "source": [
    "#jupyter nbconvert README.ipynb --to markdown"
   ]
  }
 ],
 "metadata": {
  "kernelspec": {
   "display_name": "Python 3",
   "language": "python",
   "name": "python3"
  },
  "language_info": {
   "codemirror_mode": {
    "name": "ipython",
    "version": 3
   },
   "file_extension": ".py",
   "mimetype": "text/x-python",
   "name": "python",
   "nbconvert_exporter": "python",
   "pygments_lexer": "ipython3",
   "version": "3.8.2"
  }
 },
 "nbformat": 4,
 "nbformat_minor": 4
}
