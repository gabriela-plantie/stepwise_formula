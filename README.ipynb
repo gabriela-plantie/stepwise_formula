{
 "cells": [
  {
   "cell_type": "markdown",
   "metadata": {},
   "source": [
    "## What it does:"
   ]
  },
  {
   "cell_type": "markdown",
   "metadata": {},
   "source": [
    "This packages receives a data frame and function that could have multiplicative terms and runs setpwise selection from this package.\n",
    "\n",
    "https://github.com/talhahascelik/python_stepwiseSelection"
   ]
  },
  {
   "cell_type": "markdown",
   "metadata": {},
   "source": [
    "## Install package"
   ]
  },
  {
   "cell_type": "code",
   "execution_count": 14,
   "metadata": {},
   "outputs": [],
   "source": [
    "%%capture\n",
    "!pip3 install git+git://github.com/gabriela-plantie/stepwise_formula"
   ]
  },
  {
   "cell_type": "code",
   "execution_count": 3,
   "metadata": {
    "scrolled": false
   },
   "outputs": [],
   "source": [
    "from stepwise_formula.stepwise import stepwise"
   ]
  },
  {
   "cell_type": "code",
   "execution_count": 4,
   "metadata": {},
   "outputs": [],
   "source": [
    "import pandas as pd\n",
    "import numpy as np\n",
    "import scipy as sc\n",
    "from matplotlib import pyplot as plt\n",
    "import statsmodels.formula.api as smf\n",
    "import statsmodels.api as sm"
   ]
  },
  {
   "cell_type": "markdown",
   "metadata": {},
   "source": [
    "## create table with simulated data"
   ]
  },
  {
   "cell_type": "code",
   "execution_count": 5,
   "metadata": {},
   "outputs": [],
   "source": [
    "x1=np.random.normal(0,1,1000)\n",
    "x2=np.random.normal(0,1,1000)\n",
    "x3=np.random.normal(0,1,1000)\n",
    "x4=np.random.normal(0,1,1000)/5\n",
    "\n",
    "z=1 + 2*x1 + 3*x2 + 2*x2*x3 + x4\n",
    "pr=1/(1+np.exp(-z))\n",
    "y=sc.stats.binom.rvs(1, pr, size=1000)\n",
    "df = pd.DataFrame(data={'y':y, 'x1':x1, 'x2':x2, 'x3':x3, 'x4':x4})\n"
   ]
  },
  {
   "cell_type": "markdown",
   "metadata": {},
   "source": [
    "## Define formula"
   ]
  },
  {
   "cell_type": "code",
   "execution_count": 6,
   "metadata": {},
   "outputs": [],
   "source": [
    "formula = 'y ~ x1 + x2*x3*x4'"
   ]
  },
  {
   "cell_type": "markdown",
   "metadata": {},
   "source": [
    "## Run stepwise using formula"
   ]
  },
  {
   "cell_type": "code",
   "execution_count": 7,
   "metadata": {},
   "outputs": [
    {
     "name": "stdout",
     "output_type": "stream",
     "text": [
      "Character Variables (Dummies Generated, First Dummies Dropped): []\n",
      "Optimization terminated successfully.\n",
      "         Current function value: 0.292915\n",
      "         Iterations 8\n",
      "Eliminated : x3\n",
      "Optimization terminated successfully.\n",
      "         Current function value: 0.292943\n",
      "         Iterations 8\n",
      "Eliminated : x2*x4\n",
      "Optimization terminated successfully.\n",
      "         Current function value: 0.293177\n",
      "         Iterations 8\n",
      "Eliminated : x3*x4\n",
      "Optimization terminated successfully.\n",
      "         Current function value: 0.293655\n",
      "         Iterations 8\n",
      "Eliminated : x2*x3*x4\n",
      "Optimization terminated successfully.\n",
      "         Current function value: 0.294603\n",
      "         Iterations 8\n",
      "                           Logit Regression Results                           \n",
      "==============================================================================\n",
      "Dep. Variable:                      y   No. Observations:                 1000\n",
      "Model:                          Logit   Df Residuals:                      995\n",
      "Method:                           MLE   Df Model:                            4\n",
      "Date:                Mon, 05 Oct 2020   Pseudo R-squ.:                  0.5609\n",
      "Time:                        15:54:56   Log-Likelihood:                -294.60\n",
      "converged:                       True   LL-Null:                       -670.93\n",
      "Covariance Type:            nonrobust   LLR p-value:                1.377e-161\n",
      "==============================================================================\n",
      "                 coef    std err          z      P>|z|      [0.025      0.975]\n",
      "------------------------------------------------------------------------------\n",
      "intercept      1.1250      0.121      9.327      0.000       0.889       1.361\n",
      "x1             2.1661      0.171     12.636      0.000       1.830       2.502\n",
      "x2             3.3304      0.247     13.479      0.000       2.846       3.815\n",
      "x4             1.2785      0.526      2.431      0.015       0.248       2.309\n",
      "x2*x3          2.1017      0.204     10.323      0.000       1.703       2.501\n",
      "==============================================================================\n",
      "AIC: 599.2050648684576\n",
      "BIC: 623.7438412633683\n",
      "Final Variables: ['intercept', 'x1', 'x2', 'x4', 'x2*x3']\n"
     ]
    }
   ],
   "source": [
    "a = stepwise(formula, df, 'logistic')"
   ]
  },
  {
   "cell_type": "markdown",
   "metadata": {},
   "source": [
    "## filter final list of variables by pvalue"
   ]
  },
  {
   "cell_type": "code",
   "execution_count": 8,
   "metadata": {},
   "outputs": [
    {
     "data": {
      "text/plain": [
       "intercept    1.12\n",
       "x1           2.17\n",
       "x2           3.33\n",
       "x2*x3        2.10\n",
       "dtype: float64"
      ]
     },
     "execution_count": 8,
     "metadata": {},
     "output_type": "execute_result"
    }
   ],
   "source": [
    "np.round(a[2].params[a[2].pvalues<0.01],2)"
   ]
  },
  {
   "cell_type": "markdown",
   "metadata": {},
   "source": [
    "## generate model with resulting varibles"
   ]
  },
  {
   "cell_type": "code",
   "execution_count": 9,
   "metadata": {},
   "outputs": [],
   "source": [
    "formula = 'y ~ x1 + x2 + x2:x3'\n",
    "model = smf.glm(formula = formula, data=df, family=sm.families.Binomial())\n",
    "mod = model.fit()"
   ]
  },
  {
   "cell_type": "code",
   "execution_count": 10,
   "metadata": {},
   "outputs": [
    {
     "data": {
      "text/plain": [
       "Intercept    1.09\n",
       "x1           2.12\n",
       "x2           3.27\n",
       "x2:x3        2.07\n",
       "dtype: float64"
      ]
     },
     "execution_count": 10,
     "metadata": {},
     "output_type": "execute_result"
    }
   ],
   "source": [
    "np.round(mod.params[mod.pvalues<0.01],2)"
   ]
  },
  {
   "cell_type": "code",
   "execution_count": 11,
   "metadata": {},
   "outputs": [],
   "source": [
    "pred=mod.predict(df)"
   ]
  },
  {
   "cell_type": "code",
   "execution_count": 12,
   "metadata": {},
   "outputs": [
    {
     "data": {
      "text/plain": [
       "<matplotlib.collections.PathCollection at 0x7f4c23d573d0>"
      ]
     },
     "execution_count": 12,
     "metadata": {},
     "output_type": "execute_result"
    },
    {
     "data": {
      "image/png": "[encoded data removed]",
      "text/plain": [
       "<Figure size 432x288 with 1 Axes>"
      ]
     },
     "metadata": {
      "needs_background": "light"
     },
     "output_type": "display_data"
    }
   ],
   "source": [
    "plt.scatter(pr, pred)"
   ]
  },
  {
   "cell_type": "code",
   "execution_count": null,
   "metadata": {},
   "outputs": [],
   "source": []
  },
  {
   "cell_type": "code",
   "execution_count": null,
   "metadata": {
    "scrolled": true
   },
   "outputs": [],
   "source": [
    "#jupyter nbconvert README.ipynb --to markdown"
   ]
  },
  {
   "cell_type": "code",
   "execution_count": null,
   "metadata": {},
   "outputs": [],
   "source": []
  }
 ],
 "metadata": {
  "kernelspec": {
   "display_name": "Python 3",
   "language": "python",
   "name": "python3"
  },
  "language_info": {
   "codemirror_mode": {
    "name": "ipython",
    "version": 3
   },
   "file_extension": ".py",
   "mimetype": "text/x-python",
   "name": "python",
   "nbconvert_exporter": "python",
   "pygments_lexer": "ipython3",
   "version": "3.8.2"
  }
 },
 "nbformat": 4,
 "nbformat_minor": 4
}
