{
 "cells": [
  {
   "cell_type": "markdown",
   "metadata": {},
   "source": [
    "## What it does:"
   ]
  },
  {
   "cell_type": "markdown",
   "metadata": {},
   "source": [
    "This packages receives a data frame and function that could have multiplicative terms and runs setpwise selection from this package.\n",
    "\n",
    "https://github.com/talhahascelik/python_stepwiseSelection"
   ]
  },
  {
   "cell_type": "markdown",
   "metadata": {},
   "source": [
    "## Install package"
   ]
  },
  {
   "cell_type": "code",
   "execution_count": null,
   "metadata": {},
   "outputs": [],
   "source": [
    "%%capture\n",
    "!pip3 install git+git://github.com/gabriela-plantie/stepwise_formula"
   ]
  },
  {
   "cell_type": "code",
   "execution_count": 3,
   "metadata": {
    "scrolled": false
   },
   "outputs": [],
   "source": [
    "from stepwise_formula.stepwise import stepwise"
   ]
  },
  {
   "cell_type": "code",
   "execution_count": 4,
   "metadata": {},
   "outputs": [],
   "source": [
    "import pandas as pd\n",
    "import numpy as np\n",
    "import scipy as sc\n",
    "from matplotlib import pyplot as plt\n",
    "import statsmodels.formula.api as smf\n",
    "import statsmodels.api as sm"
   ]
  },
  {
   "cell_type": "markdown",
   "metadata": {},
   "source": [
    "## create table with simulated data"
   ]
  },
  {
   "cell_type": "code",
   "execution_count": 8,
   "metadata": {},
   "outputs": [],
   "source": [
    "x1=np.random.normal(0,1,1000)\n",
    "x2=np.random.normal(0,1,1000)\n",
    "x3=np.random.normal(0,1,1000)\n",
    "x4=np.random.normal(0,1,1000)/5\n",
    "\n",
    "z=1 + 2*x1 + x2 + 2*x2*x3 + x4\n",
    "pr=1/(1+np.exp(-z))\n",
    "y=sc.stats.binom.rvs(1, pr, size=1000)\n",
    "df = pd.DataFrame(data={'y':y, 'x1':x1, 'x2':x2, 'x3':x3, 'x4':x4})\n"
   ]
  },
  {
   "cell_type": "markdown",
   "metadata": {},
   "source": [
    "## Define formula"
   ]
  },
  {
   "cell_type": "code",
   "execution_count": 14,
   "metadata": {},
   "outputs": [],
   "source": [
    "formula = 'y ~  x2*x3 + x1:x4 '"
   ]
  },
  {
   "cell_type": "markdown",
   "metadata": {},
   "source": [
    "## Run stepwise using formula"
   ]
  },
  {
   "cell_type": "code",
   "execution_count": 15,
   "metadata": {},
   "outputs": [
    {
     "name": "stdout",
     "output_type": "stream",
     "text": [
      "{x2*x3, x1*x4, 'x3', 'x2'}\n",
      "Character Variables (Dummies Generated, First Dummies Dropped): []\n",
      "Optimization terminated successfully.\n",
      "         Current function value: 0.394587\n",
      "         Iterations 7\n",
      "Eliminated : x3\n",
      "Optimization terminated successfully.\n",
      "         Current function value: 0.394595\n",
      "         Iterations 7\n",
      "Eliminated : x1*x4\n",
      "Optimization terminated successfully.\n",
      "         Current function value: 0.396311\n",
      "         Iterations 7\n",
      "Regained :  x1*x4\n",
      "                           Logit Regression Results                           \n",
      "==============================================================================\n",
      "Dep. Variable:                      y   No. Observations:                 1000\n",
      "Model:                          Logit   Df Residuals:                      994\n",
      "Method:                           MLE   Df Model:                            5\n",
      "Date:                Wed, 07 Oct 2020   Pseudo R-squ.:                  0.4026\n",
      "Time:                        13:48:16   Log-Likelihood:                -394.60\n",
      "converged:                       True   LL-Null:                       -660.53\n",
      "Covariance Type:            nonrobust   LLR p-value:                1.049e-112\n",
      "==============================================================================\n",
      "                 coef    std err          z      P>|z|      [0.025      0.975]\n",
      "------------------------------------------------------------------------------\n",
      "intercept      0.9307      0.097      9.556      0.000       0.740       1.122\n",
      "x1             1.8153      0.134     13.545      0.000       1.553       2.078\n",
      "x2             0.7976      0.111      7.154      0.000       0.579       1.016\n",
      "x4             0.8838      0.449      1.968      0.049       0.004       1.764\n",
      "x2*x3          1.9254      0.165     11.660      0.000       1.602       2.249\n",
      "x1*x4         -1.0898      0.579     -1.881      0.060      -2.226       0.046\n",
      "==============================================================================\n",
      "AIC: 801.1906769633258\n",
      "BIC: 830.6372086372187\n",
      "Final Variables: ['intercept', 'x1', 'x2', 'x4', 'x2*x3', 'x1*x4']\n"
     ]
    }
   ],
   "source": [
    "a = stepwise(formula, df, 'logistic')"
   ]
  },
  {
   "cell_type": "markdown",
   "metadata": {},
   "source": [
    "## filter final list of variables by pvalue"
   ]
  },
  {
   "cell_type": "code",
   "execution_count": 16,
   "metadata": {},
   "outputs": [
    {
     "data": {
      "text/plain": [
       "intercept    0.93\n",
       "x1           1.82\n",
       "x2           0.80\n",
       "x2*x3        1.93\n",
       "dtype: float64"
      ]
     },
     "execution_count": 16,
     "metadata": {},
     "output_type": "execute_result"
    }
   ],
   "source": [
    "np.round(a[2].params[a[2].pvalues<0.01],2)"
   ]
  },
  {
   "cell_type": "markdown",
   "metadata": {},
   "source": [
    "## generate model with resulting varibles"
   ]
  },
  {
   "cell_type": "code",
   "execution_count": 17,
   "metadata": {},
   "outputs": [],
   "source": [
    "formula = 'y ~ x1 + x2 + x2:x3'\n",
    "model = smf.glm(formula = formula, data=df, family=sm.families.Binomial())\n",
    "mod = model.fit()"
   ]
  },
  {
   "cell_type": "code",
   "execution_count": 18,
   "metadata": {},
   "outputs": [
    {
     "data": {
      "text/plain": [
       "Intercept    0.92\n",
       "x1           1.80\n",
       "x2           0.78\n",
       "x2:x3        1.89\n",
       "dtype: float64"
      ]
     },
     "execution_count": 18,
     "metadata": {},
     "output_type": "execute_result"
    }
   ],
   "source": [
    "np.round(mod.params[mod.pvalues<0.01],2)"
   ]
  },
  {
   "cell_type": "code",
   "execution_count": 19,
   "metadata": {},
   "outputs": [],
   "source": [
    "pred=mod.predict(df)"
   ]
  },
  {
   "cell_type": "code",
   "execution_count": 20,
   "metadata": {},
   "outputs": [
    {
     "data": {
      "text/plain": [
       "<matplotlib.collections.PathCollection at 0x7f18adb912b0>"
      ]
     },
     "execution_count": 20,
     "metadata": {},
     "output_type": "execute_result"
    },
    {
     "data": {
      "image/png": "[encoded data removed]",
      "text/plain": [
       "<Figure size 432x288 with 1 Axes>"
      ]
     },
     "metadata": {
      "needs_background": "light"
     },
     "output_type": "display_data"
    }
   ],
   "source": [
    "plt.scatter(pr, pred)"
   ]
  },
  {
   "cell_type": "code",
   "execution_count": null,
   "metadata": {},
   "outputs": [],
   "source": []
  },
  {
   "cell_type": "code",
   "execution_count": null,
   "metadata": {
    "scrolled": true
   },
   "outputs": [],
   "source": [
    "#jupyter nbconvert README.ipynb --to markdown"
   ]
  },
  {
   "cell_type": "code",
   "execution_count": null,
   "metadata": {},
   "outputs": [],
   "source": []
  }
 ],
 "metadata": {
  "kernelspec": {
   "display_name": "Python 3",
   "language": "python",
   "name": "python3"
  },
  "language_info": {
   "codemirror_mode": {
    "name": "ipython",
    "version": 3
   },
   "file_extension": ".py",
   "mimetype": "text/x-python",
   "name": "python",
   "nbconvert_exporter": "python",
   "pygments_lexer": "ipython3",
   "version": "3.8.2"
  }
 },
 "nbformat": 4,
 "nbformat_minor": 4
}
